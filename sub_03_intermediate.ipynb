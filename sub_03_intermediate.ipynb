{
 "cells": [
  {
   "cell_type": "markdown",
   "id": "90b855c1",
   "metadata": {},
   "source": [
    "# Submission 3 &ndash; Final Submission\n",
    "\n",
    "## Instructions\n",
    "\n",
    "- Fill out the *Basic Information* and the *Results* sections.\n",
    "- Make sure that this `.ipynb` file displays correctly in the GitHub file preview, including any visual output.\n",
    "- If you find that any output does not display correctly, include a static screenshot as an image. For interactive outputs, add a link to a short screencast located in your repository.\n",
    "- Push all required files before the deadline."
   ]
  },
  {
   "cell_type": "markdown",
   "id": "8aa83fea-80cf-4296-9765-410daf7c296d",
   "metadata": {},
   "source": [
    "---\n",
    "## Basic Information"
   ]
  },
  {
   "cell_type": "markdown",
   "id": "99b65e2d-2bee-4e12-ac82-8b31b972d850",
   "metadata": {},
   "source": [
    "**Team Name:** TODO"
   ]
  },
  {
   "cell_type": "markdown",
   "id": "230d9ba1-6ba9-4708-b8d8-39d9502fab44",
   "metadata": {},
   "source": [
    "**Team Members:**\n",
    "- TODO\n",
    "- TODO\n",
    "- TODO\n",
    "- TODO"
   ]
  },
  {
   "cell_type": "markdown",
   "id": "ec9668fc-28d6-4adf-ae4d-aafb4781f936",
   "metadata": {},
   "source": [
    "**Dataset Description:**  \n",
    "(max. 75 words; this serves just as a reminder)"
   ]
  },
  {
   "cell_type": "markdown",
   "id": "4bbce0ac-0a1e-455e-bcd3-5a258cb033ec",
   "metadata": {},
   "source": [
    "< Your dataset description goes here >"
   ]
  },
  {
   "cell_type": "markdown",
   "id": "04352fd2-6482-423f-8def-6f713c65c597",
   "metadata": {},
   "source": [
    "---\n",
    "\n",
    "## Code\n",
    "\n",
    "Here you may place any code that is not an immediate part of your submission. Only the content of the *Results* sections will be graded for this submission."
   ]
  },
  {
   "cell_type": "code",
   "execution_count": null,
   "id": "51cbec61",
   "metadata": {
    "vscode": {
     "languageId": "plaintext"
    }
   },
   "outputs": [],
   "source": []
  },
  {
   "cell_type": "code",
   "execution_count": null,
   "id": "5b31f150",
   "metadata": {
    "vscode": {
     "languageId": "plaintext"
    }
   },
   "outputs": [
    {
     "name": "stdout",
     "output_type": "stream",
     "text": [
      "Filtered Asian Countries Data (SA):\n",
      "   iso3                     country hdicode region  hdi_rank_2022  hdi_1990  \\\n",
      "0   AFG                 Afghanistan     Low     SA          182.0     0.284   \n",
      "13  BGD                  Bangladesh  Medium     SA          129.0     0.399   \n",
      "19  BTN                      Bhutan  Medium     SA          125.0       NaN   \n",
      "77  IND                       India  Medium     SA          134.0     0.434   \n",
      "79  IRN  Iran (Islamic Republic of)    High     SA           78.0     0.613   \n",
      "\n",
      "    hdi_1991  hdi_1992  hdi_1993  hdi_1994  ...  pop_total_2013  \\\n",
      "0      0.292     0.299     0.307     0.300  ...       31.541208   \n",
      "13     0.397     0.416     0.423     0.431  ...      154.030139   \n",
      "19       NaN       NaN       NaN       NaN  ...        0.728889   \n",
      "77     0.437     0.442     0.446     0.452  ...     1291.132064   \n",
      "79     0.631     0.638     0.644     0.649  ...       78.458928   \n",
      "\n",
      "    pop_total_2014  pop_total_2015  pop_total_2016  pop_total_2017  \\\n",
      "0        32.716210       33.753499       34.636207       35.643417   \n",
      "13      155.961298      157.830000      159.784569      161.793963   \n",
      "19        0.736357        0.743274        0.749761        0.756122   \n",
      "77     1307.246509     1322.866505     1338.636340     1354.195680   \n",
      "79       79.961672       81.790841       83.306230       84.505077   \n",
      "\n",
      "    pop_total_2018  pop_total_2019  pop_total_2020  pop_total_2021  \\\n",
      "0        36.686784       37.769498       38.972231       40.099462   \n",
      "13      163.683958      165.516222      167.420951      169.356251   \n",
      "19        0.762096        0.767459        0.772506        0.777486   \n",
      "77     1369.003307     1383.112051     1396.387127     1407.563842   \n",
      "79       85.617562       86.564202       87.290193       87.923433   \n",
      "\n",
      "    pop_total_2022  \n",
      "0        41.128771  \n",
      "13      171.186373  \n",
      "19        0.782455  \n",
      "77     1417.173173  \n",
      "79       88.550570  \n",
      "\n",
      "[5 rows x 1076 columns]\n",
      "Filtered HDI and GII data for Asian countries saved to: C:\\Users\\anton\\Downloads\\asian_countries_hdi_gii.csv\n"
     ]
    }
   ],
   "source": [
    "import numpy as np\n",
    "import pandas as pd\n",
    "import matplotlib.pyplot as plt\n",
    "import seaborn as sns\n",
    "import plotly.express as px\n",
    "import plotly.graph_objects as go\n",
    "import altair as alt\n",
    "from sklearn.linear_model import LinearRegression\n",
    "\n",
    "# Preprocessing the dataset:\n",
    "np.random.seed(42)\n",
    "file_path = r\"C:\\Users\\ali\\Downloads\\visualization intermediate submission\\HDR23-24_Composite_indices_complete_time_series.csv\"\n",
    "data = pd.read_csv(file_path, encoding='ISO-8859-1') \n",
    "\n",
    "# Filter the dataset for Asian countries (Region = 'SA')\n",
    "asian_countries = data[data['region'] == 'SA']  # Already a DataFrame\n",
    "print(f\"Filtered Asian Countries Data (SA):\\n{asian_countries.head()}\")\n",
    "hongkong = data.iloc[78]\n",
    "print(hong\n",
    "# Extract columns for HDI and GII (e.g., years from the column names)\n",
    "asian_countries_hdi = asian_countries.filter(regex=r'hdi_\\d{4}')\n",
    "asian_countries_gii = asian_countries.filter(regex=r'gii_\\d{4}')\n",
    "\n",
    "# Combine for further processing if needed\n",
    "asian_countries_hdi_gii = pd.concat([asian_countries['country'], asian_countries_hdi, asian_countries_gii], axis=1)\n",
    "\n",
    "# Save to a CSV for Power BI visualization\n",
    "output_file_path = r\"C:\\Users\\ali\\Downloads\\asian_countries_hdi_gii.csv\"\n",
    "asian_countries_hdi_gii.to_csv(output_file_path, index=False)\n",
    "print(f\"Filtered HDI and GII data for Asian countries saved to: {output_file_path}\")\n",
    "\n",
    "# # Melt dataframes\n",
    "# kor_gnipc_data_melted = kor_gnipc_data.melt(var_name=\"Year\", value_name=\"GNIPC\")\n",
    "# usa_gnipc_data_melted = usa_gnipc_data.melt(var_name=\"Year\", value_name=\"GNIPC\")\n",
    "\n",
    "# kor_lfpr_data_melted = kor_lfpr_data.melt(var_name=\"Year\", value_name=\"LFPR\")\n",
    "# usa_lfpr_data_melted = usa_lfpr_data.melt(var_name=\"Year\", value_name=\"LFPR\")\n",
    "\n",
    "# # Add country labels\n",
    "# kor_gnipc_data_melted[\"Country\"] = \"Korea\"\n",
    "# usa_gnipc_data_melted[\"Country\"] = \"USA\"\n",
    "\n",
    "# # Combine GDI data\n",
    "# combined_gnipc_data = pd.concat([kor_gnipc_data_melted, usa_gnipc_data_melted], ignore_index=True)\n",
    "\n",
    "# # Extract numeric year part and convert to integer\n",
    "# combined_gnipc_data[\"Year\"] = combined_gnipc_data[\"Year\"].str.extract(r\"(\\d{4})\").astype(int)\n",
    "\n",
    "# # Add country labels\n",
    "# kor_lfpr_data_melted[\"Country\"] = \"Korea\"\n",
    "# usa_lfpr_data_melted[\"Country\"] = \"USA\"\n",
    "\n",
    "# # Combine LFPR data\n",
    "# combined_lfpr_data = pd.concat([kor_lfpr_data_melted, usa_lfpr_data_melted], ignore_index=True)\n",
    "\n",
    "# # Extract numeric year part and convert to integer\n",
    "# combined_lfpr_data[\"Year\"] = combined_lfpr_data[\"Year\"].str.extract(r\"(\\d{4})\").astype(int)\n",
    "\n",
    "# # Filter data based on year range for Korea and the USA\n",
    "# kor_gnipc_filtered = combined_gnipc_data[(combined_gnipc_data[\"Country\"] == \"Korea\") &\n",
    "#                                          (combined_gnipc_data[\"Year\"].between(1994, 2005))]\n",
    "# usa_gnipc_filtered = combined_gnipc_data[(combined_gnipc_data[\"Country\"] == \"USA\") &\n",
    "#                                          (combined_gnipc_data[\"Year\"].between(2005, 2019))]\n",
    "\n",
    "# kor_lfpr_filtered = combined_lfpr_data[(combined_lfpr_data[\"Country\"] == \"Korea\") &\n",
    "#                                        (combined_lfpr_data[\"Year\"].between(1994, 2005))]\n",
    "# usa_lfpr_filtered = combined_lfpr_data[(combined_lfpr_data[\"Country\"] == \"USA\") &\n",
    "#                                        (combined_lfpr_data[\"Year\"].between(2005, 2019))]\n",
    "\n",
    "# # Combine the filtered dataframes if needed\n",
    "# filtered_gnipc_data = pd.concat([kor_gnipc_filtered, usa_gnipc_filtered], ignore_index=True)\n",
    "# filtered_lfpr_data = pd.concat([kor_lfpr_filtered, usa_lfpr_filtered], ignore_index=True)\n"
   ]
  },
  {
   "cell_type": "markdown",
   "id": "c6ce32bc",
   "metadata": {},
   "source": [
    "---\n",
    "## Results &ndash; Complex Hypotheses/Tasks"
   ]
  },
  {
   "cell_type": "markdown",
   "id": "2b170d32-4ad8-479c-aae8-35b9b816db82",
   "metadata": {
    "tags": []
   },
   "source": [
    "### B.1\n",
    "\n",
    "Restate your hypothesis/task below."
   ]
  },
  {
   "cell_type": "markdown",
   "id": "19e7220b",
   "metadata": {},
   "source": [
    "**Hypthesis/Task B.1:** TODO"
   ]
  },
  {
   "cell_type": "markdown",
   "id": "88cef7c6",
   "metadata": {},
   "source": [
    "Place your visualizations below (max. 2). Make sure that everyting displays correctly in the GitHub file preview."
   ]
  },
  {
   "cell_type": "markdown",
   "id": "0de027b6",
   "metadata": {},
   "source": [
    "TODO"
   ]
  },
  {
   "cell_type": "markdown",
   "id": "cb7a2861-c731-4858-8ca9-4fca8e5190ae",
   "metadata": {},
   "source": [
    "Describe your visualizations and findings. Be clear which chart(s) you are referring to and relate your findings to the hypothesis/task.\n",
    "Use no more than 150 words and indicate the word count of your description below."
   ]
  },
  {
   "cell_type": "markdown",
   "id": "45801f81-8025-4af6-b318-836c50d56edd",
   "metadata": {},
   "source": [
    "**Description:** TODO\n",
    "\n",
    "**Word count**: TODO"
   ]
  },
  {
   "cell_type": "markdown",
   "id": "75ef0baf",
   "metadata": {},
   "source": [
    "### B.2\n",
    "\n",
    "Restate your hypothesis/task below."
   ]
  },
  {
   "cell_type": "markdown",
   "id": "9cce0167",
   "metadata": {},
   "source": [
    "**Hypthesis/Task B.2:** TODO"
   ]
  },
  {
   "cell_type": "markdown",
   "id": "179cd61e",
   "metadata": {},
   "source": [
    "Place your visualizations below (max. 2). Make sure that everyting displays correctly in the GitHub file preview."
   ]
  },
  {
   "cell_type": "markdown",
   "id": "5062f9d6",
   "metadata": {},
   "source": [
    "TODO"
   ]
  },
  {
   "cell_type": "markdown",
   "id": "43da1e21",
   "metadata": {},
   "source": [
    "Describe your visualizations and findings. Be clear which chart(s) you are referring to and relate your findings to the hypothesis/task. Use no more than 150 words and indicate the word count of your description below."
   ]
  },
  {
   "cell_type": "markdown",
   "id": "f7aac895",
   "metadata": {},
   "source": [
    "**Description:** TODO\n",
    "\n",
    "**Word count**: TODO"
   ]
  },
  {
   "cell_type": "markdown",
   "id": "e42b2e33",
   "metadata": {},
   "source": [
    "---\n",
    "\n",
    "## Results &ndash; Black-Hat Visualization\n",
    "\n",
    "Place your black hat visualization below. Make sure that everything displays correctly in the GitHub file preview."
   ]
  },
  {
   "cell_type": "markdown",
   "id": "292aee3c",
   "metadata": {},
   "source": [
    "TODO"
   ]
  },
  {
   "cell_type": "markdown",
   "id": "eecb1bb3",
   "metadata": {},
   "source": [
    "Describe your black-hat visualization. What was your motivation? How did you achieve the desired effect? Use no more than 150 and indicate the word count of your description below."
   ]
  },
  {
   "cell_type": "markdown",
   "id": "651ed667",
   "metadata": {},
   "source": [
    "**Description:** TODO\n",
    "\n",
    "**Word count:** TODO"
   ]
  }
 ],
 "metadata": {
  "kernelspec": {
   "display_name": "Python 3 (ipykernel)",
   "language": "python",
   "name": "python3"
  },
  "language_info": {
   "codemirror_mode": {
    "name": "ipython",
    "version": 3
   },
   "file_extension": ".py",
   "mimetype": "text/x-python",
   "name": "python",
   "nbconvert_exporter": "python",
   "pygments_lexer": "ipython3",
   "version": "3.11.10"
  }
 },
 "nbformat": 4,
 "nbformat_minor": 5
}
